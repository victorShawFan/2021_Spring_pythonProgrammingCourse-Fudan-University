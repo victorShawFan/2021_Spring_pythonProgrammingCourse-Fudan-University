{
 "cells": [
  {
   "cell_type": "markdown",
   "metadata": {},
   "source": [
    "# The extended part of the repository starts from this page. Previous 94 problems were collected from the repository mentioned in intro. The following problems are collected from Hackerrank and other resources from internet.\n",
    "\n",
    "# Question 95\n",
    "\n",
    "### **Question**\n",
    "\n",
    "> **_Given the participants' score sheet for your University Sports Day, you are required to find the runner-up score. You are given scores. Store them in a list and find the score of the runner-up._**\n",
    "\n",
    "> **_If the following string is given as input to the program:_**\n",
    ">\n",
    "> 5\n",
    "> 2 3 6 6 5\n",
    ">\n",
    "> **_Then, the output of the program should be:_**\n",
    ">\n",
    "> 5\n",
    "\n",
    "### Hints\n",
    "\n",
    "> **_Make the scores unique and then find 2nd best number_**\n",
    "\n",
    "---\n",
    "\n",
    "**Solutions:**"
   ]
  },
  {
   "cell_type": "code",
   "execution_count": 6,
   "metadata": {},
   "outputs": [
    {
     "name": "stdout",
     "output_type": "stream",
     "text": [
      "5 2\n",
      "2\n"
     ]
    }
   ],
   "source": [
    "arr = map(int, input().split())\n",
    "arr = list(set(arr))\n",
    "arr.sort()\n",
    "print(arr[-2])"
   ]
  },
  {
   "cell_type": "markdown",
   "metadata": {},
   "source": [
    "---"
   ]
  },
  {
   "cell_type": "code",
   "execution_count": null,
   "metadata": {},
   "outputs": [],
   "source": [
    "\"\"\"\n",
    "Solution by: mishrasunny-coder\n",
    "\"\"\"\n",
    "num = int(input(\"Enter num: \"))\n",
    "L = []\n",
    "\n",
    "while True:\n",
    "    L.append(num)\n",
    "    num = int(input(\"Enter another: \"))\n",
    "    if num == 0:\n",
    "        break\n",
    "\n",
    "L1 = list(set(L[:]))\n",
    "L2 = sorted(L1)\n",
    "print(L2)\n",
    "\n",
    "print(f\"The runner up is {L2[-2]}\")"
   ]
  },
  {
   "cell_type": "markdown",
   "metadata": {},
   "source": [
    "---\n",
    "\n",
    "# Question 96\n",
    "\n",
    "### **Question**\n",
    "\n",
    "> **_You are given a string S and width W.\n",
    "> Your task is to wrap the string into a paragraph of width._**\n",
    "\n",
    "> **_If the following string is given as input to the program:_**\n",
    ">\n",
    "> ABCDEFGHIJKLIMNOQRSTUVWXYZ\n",
    "> 4\n",
    ">\n",
    "> **_Then, the output of the program should be:_**\n",
    ">\n",
    "> ABCD\n",
    "> EFGH\n",
    "> IJKL\n",
    "> IMNO\n",
    "> QRST\n",
    "> UVWX\n",
    "> YZ\n",
    "\n",
    "### Hints\n",
    "\n",
    "> **_Use wrap function of textwrap module_**\n",
    "\n",
    "---\n",
    "\n",
    "**Solutions:**"
   ]
  },
  {
   "cell_type": "code",
   "execution_count": null,
   "metadata": {},
   "outputs": [],
   "source": [
    "import textwrap\n",
    "\n",
    "\n",
    "def wrap(string, max_width):\n",
    "    string = textwrap.wrap(string, max_width)\n",
    "    string = \"\\n\".join(string)\n",
    "    return string\n",
    "\n",
    "\n",
    "if __name__ == \"__main__\":\n",
    "    string, max_width = input(), int(input())\n",
    "    result = wrap(string, max_width)\n",
    "    print(result)"
   ]
  },
  {
   "cell_type": "markdown",
   "metadata": {},
   "source": [
    "---"
   ]
  },
  {
   "cell_type": "code",
   "execution_count": null,
   "metadata": {},
   "outputs": [],
   "source": [
    "\"\"\"\n",
    "Solution by: mishrasunny-coder\n",
    "\"\"\"\n",
    "import textwrap\n",
    "\n",
    "string = input()\n",
    "width = int(input())\n",
    "\n",
    "print(textwrap.fill(string, width))"
   ]
  },
  {
   "cell_type": "markdown",
   "metadata": {},
   "source": [
    "---\n",
    "\n",
    "# Question 97\n",
    "\n",
    "### **Question**\n",
    "\n",
    "> **_You are given an integer, N. Your task is to print an alphabet rangoli of size N. (Rangoli is a form of Indian folk art based on creation of patterns.)_**\n",
    "\n",
    "> **_Different sizes of alphabet rangoli are shown below:_**\n",
    ">\n",
    "> $size = 3$\n",
    ">\n",
    "> ----c----\n",
    "\n",
    "> --c-b-c--\n",
    "\n",
    "> c-b-a-b-c\n",
    "\n",
    "> --c-b-c--\n",
    "\n",
    "> ----c----\n",
    ">\n",
    "> $size = 5$\n",
    ">\n",
    "> --------e--------\n",
    "\n",
    "> ------e-d-e------\n",
    "\n",
    "> ----e-d-c-d-e----\n",
    "\n",
    "> --e-d-c-b-c-d-e--\n",
    "\n",
    "> e-d-c-b-a-b-c-d-e\n",
    "\n",
    "> --e-d-c-b-c-d-e--\n",
    "\n",
    "> ----e-d-c-d-e----\n",
    "\n",
    "> ------e-d-e------\n",
    "\n",
    "> --------e--------\n",
    "\n",
    "### Hints\n",
    "\n",
    "> **_First print the half of the Rangoli in the given way and save each line in a list. Then print the list in reverse order to get the rest._**\n",
    "\n",
    "---\n",
    "\n",
    "**Solutions:**"
   ]
  },
  {
   "cell_type": "code",
   "execution_count": null,
   "metadata": {},
   "outputs": [],
   "source": [
    "import string\n",
    "\n",
    "\n",
    "def print_rangoli(size):\n",
    "    n = size\n",
    "    alph = string.ascii_lowercase\n",
    "    width = 4 * n - 3\n",
    "\n",
    "    ans = []\n",
    "    for i in range(n):\n",
    "        left = \"-\".join(alph[n - i - 1 : n])\n",
    "        mid = left[-1:0:-1] + left\n",
    "        final = mid.center(width, \"-\")\n",
    "        ans.append(final)\n",
    "\n",
    "    if len(ans) > 1:\n",
    "        for i in ans[n - 2 :: -1]:\n",
    "            ans.append(i)\n",
    "    ans = \"\\n\".join(ans)\n",
    "    print(ans)\n",
    "\n",
    "\n",
    "if __name__ == \"__main__\":\n",
    "    n = int(input())\n",
    "    print_rangoli(n)"
   ]
  },
  {
   "cell_type": "markdown",
   "metadata": {},
   "source": [
    "---\n",
    "\n",
    "# Question 98\n",
    "\n",
    "### **Question**\n",
    "\n",
    "> **_You are given a date. Your task is to find what the day is on that date._**\n",
    "\n",
    "**Input**\n",
    "\n",
    "> **_A single line of input containing the space separated month, day and year, respectively, in MM DD YYYY format._**\n",
    ">\n",
    "> 08 05 2015\n",
    "\n",
    "**Output**\n",
    "\n",
    "> **_Output the correct day in capital letters._**\n",
    ">\n",
    "> WEDNESDAY\n",
    "\n",
    "---\n",
    "\n",
    "### Hints\n",
    "\n",
    "> **_Use weekday function of calender module_**\n",
    "\n",
    "---\n",
    "\n",
    "**Solution:**"
   ]
  },
  {
   "cell_type": "code",
   "execution_count": null,
   "metadata": {},
   "outputs": [],
   "source": [
    "import calendar\n",
    "\n",
    "month, day, year = map(int, input().split())\n",
    "\n",
    "dayId = calendar.weekday(year, month, day)\n",
    "print(calendar.day_name[dayId].upper())"
   ]
  },
  {
   "cell_type": "markdown",
   "metadata": {},
   "source": [
    "---\n",
    "\n",
    "# Question 99\n",
    "\n",
    "### **Question**\n",
    "\n",
    "> **_Given 2 sets of integers, M and N, print their symmetric difference in ascending order. The term symmetric difference indicates those values that exist in either M or N but do not exist in both._**\n",
    "\n",
    "**Input**\n",
    "\n",
    "> **_The first line of input contains an integer, M.The second line contains M space-separated integers.The third line contains an integer, N.The fourth line contains N space-separated integers._**\n",
    ">\n",
    "> 4\n",
    "> 2 4 5 9\n",
    "> 4\n",
    "> 2 4 11 12\n",
    "\n",
    "**Output**\n",
    "\n",
    "> **_Output the symmetric difference integers in ascending order, one per line._**\n",
    ">\n",
    "> 5\n",
    "> 9\n",
    "> 11\n",
    "> 12\n",
    "\n",
    "---\n",
    "\n",
    "### Hints\n",
    "\n",
    "> **_Use \\'^\\' to make symmetric difference operation._**\n",
    "\n",
    "---\n",
    "\n",
    "**Solution:**"
   ]
  },
  {
   "cell_type": "code",
   "execution_count": 7,
   "metadata": {},
   "outputs": [
    {
     "name": "stdout",
     "output_type": "stream",
     "text": [
      "2\n",
      "1\n",
      "1\n",
      "1\n"
     ]
    }
   ],
   "source": [
    "n = int(input())\n",
    "set1 = set(map(int, input().split()))\n",
    "\n",
    "m = int(input())\n",
    "set2 = set(map(int, input().split()))\n",
    "\n",
    "ans = list(set1 ^ set2)\n",
    "ans.sort()\n",
    "for i in ans:\n",
    "    print(i)"
   ]
  }
 ],
 "metadata": {
  "kernelspec": {
   "display_name": "Python 3",
   "language": "python",
   "name": "python3"
  },
  "language_info": {
   "codemirror_mode": {
    "name": "ipython",
    "version": 3
   },
   "file_extension": ".py",
   "mimetype": "text/x-python",
   "name": "python",
   "nbconvert_exporter": "python",
   "pygments_lexer": "ipython3",
   "version": "3.7.6"
  }
 },
 "nbformat": 4,
 "nbformat_minor": 4
}
